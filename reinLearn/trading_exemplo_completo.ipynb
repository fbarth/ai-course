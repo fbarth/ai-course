{
 "cells": [
  {
   "cell_type": "markdown",
   "id": "3d674cbf-d4f2-4713-bb12-60cd649ec639",
   "metadata": {},
   "source": [
    "# Exemplo completo sem aprendizado\n",
    "\n",
    "Execute diversas vezes e percebe que as ações de *long* e *short* são diferentes nas diferentes execuções, fazendo com o *total_reward* seja também diferente a cada simulação. \n",
    "\n",
    "Você também poderá mudar o *env* caso queira visualizar outro *dataset*. "
   ]
  },
  {
   "cell_type": "code",
   "execution_count": 5,
   "id": "2cdaaa7a-a335-41d0-be3f-b046cf11913f",
   "metadata": {},
   "outputs": [
    {
     "name": "stdout",
     "output_type": "stream",
     "text": [
      "info: {'total_reward': 30.595609999999937, 'total_profit': 0.9592423617769341, 'position': 0}\n"
     ]
    },
    {
     "data": {
      "image/png": "[encoded data removed]",
      "text/plain": [
       "<Figure size 432x288 with 1 Axes>"
      ]
     },
     "metadata": {
      "needs_background": "light"
     },
     "output_type": "display_data"
    }
   ],
   "source": [
    "import gym\n",
    "import gym_anytrading\n",
    "from gym_anytrading.envs import TradingEnv, ForexEnv, StocksEnv, Actions, Positions \n",
    "from gym_anytrading.datasets import FOREX_EURUSD_1H_ASK, STOCKS_GOOGL\n",
    "import matplotlib.pyplot as plt\n",
    "\n",
    "#env = gym.make('forex-v0', frame_bound=(50, 100), window_size=10)\n",
    "env = gym.make('stocks-v0', frame_bound=(50, 100), window_size=10)\n",
    "\n",
    "observation = env.reset()\n",
    "while True:\n",
    "    action = env.action_space.sample()\n",
    "    observation, reward, done, info = env.step(action)\n",
    "    #env.render()\n",
    "    if done:\n",
    "        print(\"info:\", info)\n",
    "        break\n",
    "\n",
    "plt.cla()\n",
    "env.render_all()\n",
    "plt.show()"
   ]
  },
  {
   "cell_type": "code",
   "execution_count": 6,
   "id": "eb0bc869-7d31-4519-8e6c-69d496f39fce",
   "metadata": {},
   "outputs": [],
   "source": [
    "observation = env.reset()\n",
    "action = env.action_space.sample()"
   ]
  },
  {
   "cell_type": "code",
   "execution_count": 7,
   "id": "077c7c02-798e-4a52-8c78-8487e82206a4",
   "metadata": {},
   "outputs": [
    {
     "data": {
      "text/plain": [
       "array([[ 2.14164169e+02,  0.00000000e+00],\n",
       "       [ 2.14059052e+02, -1.05117000e-01],\n",
       "       [ 2.18888885e+02,  4.82983300e+00],\n",
       "       [ 2.23583588e+02,  4.69470300e+00],\n",
       "       [ 2.22622620e+02, -9.60968000e-01],\n",
       "       [ 2.20145142e+02, -2.47747800e+00],\n",
       "       [ 2.18338333e+02, -1.80680900e+00],\n",
       "       [ 2.23043045e+02,  4.70471200e+00],\n",
       "       [ 2.21746750e+02, -1.29629500e+00],\n",
       "       [ 2.26331329e+02,  4.58457900e+00]])"
      ]
     },
     "execution_count": 7,
     "metadata": {},
     "output_type": "execute_result"
    }
   ],
   "source": [
    "observation"
   ]
  },
  {
   "cell_type": "code",
   "execution_count": 57,
   "id": "44be9d6b-14ac-4eca-a10d-4db979729820",
   "metadata": {},
   "outputs": [
    {
     "data": {
      "text/plain": [
       "0"
      ]
     },
     "execution_count": 57,
     "metadata": {},
     "output_type": "execute_result"
    }
   ],
   "source": [
    "action"
   ]
  },
  {
   "cell_type": "code",
   "execution_count": 58,
   "id": "a9eb0b8c-ac1d-4a98-a6c8-340d48369338",
   "metadata": {},
   "outputs": [
    {
     "data": {
      "text/plain": [
       "Box(-inf, inf, (10, 2), float32)"
      ]
     },
     "execution_count": 58,
     "metadata": {},
     "output_type": "execute_result"
    }
   ],
   "source": [
    "env.observation_space"
   ]
  },
  {
   "cell_type": "code",
   "execution_count": 59,
   "id": "e0379b95-c651-47c6-9ceb-2644f814f1bc",
   "metadata": {},
   "outputs": [],
   "source": [
    "Q = np.zeros([1000, 1000, env.action_space.n])"
   ]
  },
  {
   "cell_type": "code",
   "execution_count": 60,
   "id": "0d03dd01-2982-4600-ac44-7737712bf852",
   "metadata": {},
   "outputs": [
    {
     "data": {
      "text/plain": [
       "array([[[0., 0.],\n",
       "        [0., 0.],\n",
       "        [0., 0.],\n",
       "        ...,\n",
       "        [0., 0.],\n",
       "        [0., 0.],\n",
       "        [0., 0.]],\n",
       "\n",
       "       [[0., 0.],\n",
       "        [0., 0.],\n",
       "        [0., 0.],\n",
       "        ...,\n",
       "        [0., 0.],\n",
       "        [0., 0.],\n",
       "        [0., 0.]],\n",
       "\n",
       "       [[0., 0.],\n",
       "        [0., 0.],\n",
       "        [0., 0.],\n",
       "        ...,\n",
       "        [0., 0.],\n",
       "        [0., 0.],\n",
       "        [0., 0.]],\n",
       "\n",
       "       ...,\n",
       "\n",
       "       [[0., 0.],\n",
       "        [0., 0.],\n",
       "        [0., 0.],\n",
       "        ...,\n",
       "        [0., 0.],\n",
       "        [0., 0.],\n",
       "        [0., 0.]],\n",
       "\n",
       "       [[0., 0.],\n",
       "        [0., 0.],\n",
       "        [0., 0.],\n",
       "        ...,\n",
       "        [0., 0.],\n",
       "        [0., 0.],\n",
       "        [0., 0.]],\n",
       "\n",
       "       [[0., 0.],\n",
       "        [0., 0.],\n",
       "        [0., 0.],\n",
       "        ...,\n",
       "        [0., 0.],\n",
       "        [0., 0.],\n",
       "        [0., 0.]]])"
      ]
     },
     "execution_count": 60,
     "metadata": {},
     "output_type": "execute_result"
    }
   ],
   "source": [
    "Q"
   ]
  },
  {
   "cell_type": "code",
   "execution_count": null,
   "id": "b27b9829-0b19-4e6d-9f2b-24e797448d9e",
   "metadata": {},
   "outputs": [],
   "source": []
  }
 ],
 "metadata": {
  "kernelspec": {
   "display_name": "Python 3",
   "language": "python",
   "name": "python3"
  },
  "language_info": {
   "codemirror_mode": {
    "name": "ipython",
    "version": 3
   },
   "file_extension": ".py",
   "mimetype": "text/x-python",
   "name": "python",
   "nbconvert_exporter": "python",
   "pygments_lexer": "ipython3",
   "version": "3.8.5"
  }
 },
 "nbformat": 4,
 "nbformat_minor": 5
}
